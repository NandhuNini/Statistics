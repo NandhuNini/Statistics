{
  "nbformat": 4,
  "nbformat_minor": 0,
  "metadata": {
    "colab": {
      "provenance": []
    },
    "kernelspec": {
      "name": "python3",
      "display_name": "Python 3"
    },
    "language_info": {
      "name": "python"
    }
  },
  "cells": [
    {
      "cell_type": "markdown",
      "source": [
        "# Estimation And Confidence Intervals"
      ],
      "metadata": {
        "id": "r1zRchK2tDyf"
      }
    },
    {
      "cell_type": "markdown",
      "source": [
        "### Background:\n",
        "In quality control processes, especially when dealing with high-value items, destructive sampling is a necessary but costly method to ensure product quality. The test to determine whether an item meets the quality standards destroys the item, leading to the requirement of small sample sizes due to cost constraints.\n"
      ],
      "metadata": {
        "id": "P7VB3eajtPu5"
      }
    },
    {
      "cell_type": "markdown",
      "source": [
        "## Scenario\n",
        "A manufacturer of print-heads for personal computers is interested in estimating the mean durability of their print-heads in terms of the number of characters printed before failure. To assess this, the manufacturer conducts a study on a small sample of print-heads due to the destructive nature of the testing process.\n"
      ],
      "metadata": {
        "id": "zX88l0SgtXGx"
      }
    },
    {
      "cell_type": "code",
      "source": [
        "import numpy as np ##Import necessary packages numpy, statistics\n",
        "import scipy.stats as st"
      ],
      "metadata": {
        "id": "MOGpAEN3tsA-"
      },
      "execution_count": 4,
      "outputs": []
    },
    {
      "cell_type": "markdown",
      "source": [
        "### Data\n",
        "A total of 15 print-heads were randomly selected and tested until failure. The durability of each print-head (in millions of characters) was recorded as follows:\n",
        "1.13, 1.55, 1.43, 0.92, 1.25, 1.36, 1.32, 0.85, 1.07, 1.48, 1.20, 1.33, 1.18, 1.22, 1.29"
      ],
      "metadata": {
        "id": "xxJHN0R7tcgv"
      }
    },
    {
      "cell_type": "code",
      "source": [
        "# Given data\n",
        "data = [1.13, 1.55, 1.43, 0.92, 1.25, 1.36, 1.32, 0.85, 1.07, 1.48,\n",
        "        1.20, 1.33, 1.18, 1.22, 1.29]"
      ],
      "metadata": {
        "id": "EMRH4LXEtwfo"
      },
      "execution_count": 5,
      "outputs": []
    },
    {
      "cell_type": "code",
      "source": [
        "# Sample size\n",
        "n = len(data)\n",
        "n"
      ],
      "metadata": {
        "colab": {
          "base_uri": "https://localhost:8080/"
        },
        "id": "s5lasQFaty21",
        "outputId": "a38137e4-5f35-49ec-895d-d53be75cd6d7"
      },
      "execution_count": 14,
      "outputs": [
        {
          "output_type": "execute_result",
          "data": {
            "text/plain": [
              "15"
            ]
          },
          "metadata": {},
          "execution_count": 14
        }
      ]
    },
    {
      "cell_type": "code",
      "source": [
        "# Sample mean and standard deviation\n",
        "mean = np.mean(data)\n",
        "std_dev = np.std(data, ddof=1)  # sample standard deviation\n",
        "\n",
        "print(\"Sample Mean:\", mean)\n",
        "print(\"Sample Std Dev:\", std_dev)\n"
      ],
      "metadata": {
        "colab": {
          "base_uri": "https://localhost:8080/"
        },
        "id": "RBtct85vt2iw",
        "outputId": "e1d4ed64-7ed5-4fa7-f61d-fc1de3f4db9a"
      },
      "execution_count": 7,
      "outputs": [
        {
          "output_type": "stream",
          "name": "stdout",
          "text": [
            "Sample Mean: 1.2386666666666666\n",
            "Sample Std Dev: 0.19316412956959936\n"
          ]
        }
      ]
    },
    {
      "cell_type": "markdown",
      "source": [
        "### Assignment Tasks\n",
        "a. Build 99% Confidence Interval Using Sample Standard Deviation\n",
        "Assuming the sample is representative of the population, construct a 99% confidence interval for the mean number of characters printed before the print-head fails using the sample standard deviation. Explain the steps you take and the rationale behind using the t-distribution for this task.\n"
      ],
      "metadata": {
        "id": "NMgRaxwRtkEP"
      }
    },
    {
      "cell_type": "code",
      "source": [
        "alpha = 0.01\n",
        "df = n - 1  # degrees of freedom\n",
        "t_critical = st.t.ppf(1 - alpha/2, df)  # two-tailed\n",
        "t_critical\n",
        "# we using t_critical test because we don’t know the population standard deviation (σ) and also n<30\n",
        "# We use two-tailed critical values because confidence intervals cover both directions from the mean"
      ],
      "metadata": {
        "colab": {
          "base_uri": "https://localhost:8080/"
        },
        "id": "qVDVCX3at7tB",
        "outputId": "751dd839-7574-46c3-d55c-279db87de8a9"
      },
      "execution_count": 15,
      "outputs": [
        {
          "output_type": "execute_result",
          "data": {
            "text/plain": [
              "np.float64(2.976842734370834)"
            ]
          },
          "metadata": {},
          "execution_count": 15
        }
      ]
    },
    {
      "cell_type": "code",
      "source": [
        "# Standard Error\n",
        "SE_sample = std_dev / np.sqrt(n)\n",
        "SE_sample"
      ],
      "metadata": {
        "colab": {
          "base_uri": "https://localhost:8080/"
        },
        "id": "84l8TAszuA1J",
        "outputId": "0bd9084a-7f55-4837-82c4-ba9b2ade5e78"
      },
      "execution_count": 16,
      "outputs": [
        {
          "output_type": "execute_result",
          "data": {
            "text/plain": [
              "np.float64(0.04987476379384733)"
            ]
          },
          "metadata": {},
          "execution_count": 16
        }
      ]
    },
    {
      "cell_type": "code",
      "source": [
        "# Confidence Interval\n",
        "CI_lower_a = mean - t_critical * SE_sample\n",
        "CI_upper_a = mean + t_critical * SE_sample\n",
        "\n",
        "print(\"\\n99% CI using t-distribution (sample SD):\")\n",
        "print(f\"({CI_lower_a:.2f}, {CI_upper_a:.2f})\")"
      ],
      "metadata": {
        "colab": {
          "base_uri": "https://localhost:8080/"
        },
        "id": "_MaUZ-qhuD-0",
        "outputId": "c02a3fd0-a735-4fb1-e884-3296d038bbae"
      },
      "execution_count": 20,
      "outputs": [
        {
          "output_type": "stream",
          "name": "stdout",
          "text": [
            "\n",
            "99% CI using t-distribution (sample SD):\n",
            "(1.09, 1.39)\n"
          ]
        }
      ]
    },
    {
      "cell_type": "markdown",
      "source": [
        "b. Build 99% Confidence Interval Using Known Population Standard Deviation\n",
        "If it were known that the population standard deviation is 0.2 million characters, construct a 99% confidence interval for the mean number of characters printed before failure.\n"
      ],
      "metadata": {
        "id": "qHTaGnKYtn8I"
      }
    },
    {
      "cell_type": "code",
      "source": [
        "# (b) 99% Confidence Interval using known population SD (z-distribution)\n",
        "pop_std = 0.20 #standard population\n",
        "z_critical = st.norm.ppf(1 - alpha/2)  # two-tailed z-value\n",
        "z_critical\n",
        "#here we know pop_std so we using Z_critical"
      ],
      "metadata": {
        "colab": {
          "base_uri": "https://localhost:8080/"
        },
        "id": "-iYb0Gq-uHhC",
        "outputId": "f993f050-62fd-48d8-dbfc-ce42748126a8"
      },
      "execution_count": 17,
      "outputs": [
        {
          "output_type": "execute_result",
          "data": {
            "text/plain": [
              "np.float64(2.5758293035489004)"
            ]
          },
          "metadata": {},
          "execution_count": 17
        }
      ]
    },
    {
      "cell_type": "code",
      "source": [
        "# Standard Error\n",
        "SE_pop = pop_std / np.sqrt(n)\n",
        "SE_pop"
      ],
      "metadata": {
        "colab": {
          "base_uri": "https://localhost:8080/"
        },
        "id": "H7OlFovxuLSy",
        "outputId": "ef83ae66-57ab-46ac-f756-b4120e98718f"
      },
      "execution_count": 18,
      "outputs": [
        {
          "output_type": "execute_result",
          "data": {
            "text/plain": [
              "np.float64(0.051639777949432225)"
            ]
          },
          "metadata": {},
          "execution_count": 18
        }
      ]
    },
    {
      "cell_type": "code",
      "source": [
        "# Confidence Interval\n",
        "CI_lower_b = mean - z_critical * SE_pop\n",
        "CI_upper_b = mean + z_critical * SE_pop\n",
        "\n",
        "print(\"\\n99% CI using z-distribution (population SD):\")\n",
        "print(f\"({CI_lower_b:.2f}, {CI_upper_b:.2f})\")"
      ],
      "metadata": {
        "colab": {
          "base_uri": "https://localhost:8080/"
        },
        "id": "vl9Mjt7iuOmB",
        "outputId": "8e47b627-3db0-46ce-9ff0-55f6885d11dc"
      },
      "execution_count": 19,
      "outputs": [
        {
          "output_type": "stream",
          "name": "stdout",
          "text": [
            "\n",
            "99% CI using z-distribution (population SD):\n",
            "(1.11, 1.37)\n"
          ]
        }
      ]
    }
  ]
}